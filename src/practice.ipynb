{
 "cells": [
  {
   "cell_type": "code",
   "execution_count": null,
   "metadata": {},
   "outputs": [],
   "source": [
    "from theory import TheoryMaster, Note, Scale\n",
    "from instruments import Piano, Guitar\n",
    "from analysis import GuitarAnalyzer\n",
    "import yaml\n",
    "import attrdict"
   ]
  }
 ],
 "metadata": {
  "language_info": {
   "name": "python"
  }
 },
 "nbformat": 4,
 "nbformat_minor": 2
}
