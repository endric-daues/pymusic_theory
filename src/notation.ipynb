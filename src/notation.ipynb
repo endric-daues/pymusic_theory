{
 "cells": [
  {
   "cell_type": "markdown",
   "metadata": {},
   "source": [
    "# Notation Notebook\n",
    "\n",
    "Main interaction notebook for any work related to the lilypond code."
   ]
  },
  {
   "cell_type": "code",
   "execution_count": 1,
   "metadata": {},
   "outputs": [],
   "source": [
    "from theory import TheoryMaster, Note, Scale\n",
    "from analysis import GuitarAnalyzer\n",
    "from notation import Notation"
   ]
  },
  {
   "cell_type": "code",
   "execution_count": 2,
   "metadata": {},
   "outputs": [],
   "source": [
    "theory = TheoryMaster()\n",
    "analyzer = GuitarAnalyzer()"
   ]
  },
  {
   "cell_type": "code",
   "execution_count": 3,
   "metadata": {},
   "outputs": [],
   "source": [
    "# E Major scale\n",
    "e = Note(\"E\", 82.41)\n",
    "e_major_scale = Scale(\"e_major\", e, theory.major_intervals)"
   ]
  },
  {
   "cell_type": "code",
   "execution_count": 4,
   "metadata": {},
   "outputs": [
    {
     "name": "stderr",
     "output_type": "stream",
     "text": [
      "Changing working directory to: `/Users/endric.daues/workspace/projects/music/pymusic_theory/notation'\n",
      "Processing `/Users/endric.daues/workspace/projects/music/pymusic_theory/notation/temp.txt'\n",
      "Parsing...\n",
      "Interpreting music...\n",
      "Preprocessing graphical objects...\n",
      "Finding the ideal number of pages...\n",
      "Fitting music on 1 page...\n",
      "Drawing systems...\n",
      "Converting to PNG...\n",
      "Success: compilation successfully completed\n"
     ]
    }
   ],
   "source": [
    "path = \"/Users/endric.daues/workspace/projects/music/pymusic_theory/notation\"\n",
    "notation = Notation(path, e_major_scale)\n"
   ]
  },
  {
   "cell_type": "code",
   "execution_count": 6,
   "metadata": {},
   "outputs": [],
   "source": [
    "from PIL import Image\n",
    "# This should open your preview (on Mac)\n",
    "pil_im = Image.open(notation.image_path)\n",
    "pil_im.show()"
   ]
  }
 ],
 "metadata": {
  "kernelspec": {
   "display_name": "pymusic",
   "language": "python",
   "name": "python3"
  },
  "language_info": {
   "codemirror_mode": {
    "name": "ipython",
    "version": 3
   },
   "file_extension": ".py",
   "mimetype": "text/x-python",
   "name": "python",
   "nbconvert_exporter": "python",
   "pygments_lexer": "ipython3",
   "version": "3.8.10"
  }
 },
 "nbformat": 4,
 "nbformat_minor": 2
}
